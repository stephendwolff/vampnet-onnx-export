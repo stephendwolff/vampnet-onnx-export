{
 "cells": [
  {
   "cell_type": "markdown",
   "metadata": {},
   "source": [
    "# VampNet ONNX Optimization and Quantization\n",
    "\n",
    "This notebook demonstrates how to optimize and quantize VampNet ONNX models for better performance and smaller size."
   ]
  },
  {
   "cell_type": "code",
   "metadata": {
    "ExecuteTime": {
     "end_time": "2025-06-06T18:53:50.543116Z",
     "start_time": "2025-06-06T18:53:40.337528Z"
    }
   },
   "source": "import numpy as np\nimport onnx\nimport onnxruntime as ort\nfrom onnxruntime.quantization import quantize_dynamic, quantize_static, QuantType\nfrom onnxruntime.quantization.calibrate import CalibrationDataReader\nimport os\nimport sys\nfrom pathlib import Path\nimport matplotlib.pyplot as plt\n\n# Add parent directory to path\nsys.path.append(os.path.dirname(os.path.dirname(os.path.abspath('./'))))\n\n# Import our VampNet ONNX utilities\nfrom vampnet_onnx import (\n    export_all_components,\n    benchmark_model,\n    create_onnx_session\n)\nfrom vampnet_onnx.exporters import export_codec_encoder, export_codec_decoder",
   "outputs": [
    {
     "name": "stderr",
     "output_type": "stream",
     "text": [
      "/Users/stephen/Documents/Development/MusicHackspace/vampnet-onnx-export/venv/lib/python3.11/site-packages/ignite/handlers/checkpoint.py:16: DeprecationWarning: `TorchScript` support for functional optimizers is deprecated and will be removed in a future PyTorch release. Consider using the `torch.compile` optimizer instead.\n",
      "  from torch.distributed.optim import ZeroRedundancyOptimizer\n"
     ]
    }
   ],
   "execution_count": 1
  },
  {
   "cell_type": "markdown",
   "metadata": {},
   "source": [
    "## 1. Export Models (if not already done)"
   ]
  },
  {
   "cell_type": "code",
   "metadata": {
    "ExecuteTime": {
     "end_time": "2025-06-06T18:53:50.711183Z",
     "start_time": "2025-06-06T18:53:50.706567Z"
    }
   },
   "source": "# Export all components if needed\nmodel_dir = \"../onnx_models\"\n\n# Check if we need to export the VampNet codec models\nvampnet_codec_dir = \"../onnx_models/vampnet_codec\"\nif not os.path.exists(os.path.join(vampnet_codec_dir, \"encoder.onnx\")):\n    print(\"Exporting VampNet codec models...\")\n    \n    # Load vampnet interface\n    import vampnet\n    interface = vampnet.interface.Interface(\n        codec_ckpt=\"../models/vampnet/codec.pth\",\n        coarse_ckpt=\"../models/vampnet/coarse.pth\"\n    )\n    codec_model = interface.codec\n    \n    # Export encoder\n    export_codec_encoder(\n        output_path=os.path.join(vampnet_codec_dir, \"encoder.onnx\"),\n        use_vampnet=True,\n        codec_model=codec_model,\n        device='cpu'\n    )\n    \n    # Export decoder\n    export_codec_decoder(\n        output_path=os.path.join(vampnet_codec_dir, \"decoder.onnx\"),\n        use_vampnet=True,\n        codec_model=codec_model,\n        device='cpu'\n    )\nelse:\n    print(f\"VampNet codec models already exported to {vampnet_codec_dir}\")\n\n# Also export other components if needed\nif not os.path.exists(os.path.join(model_dir, \"audio_processor.onnx\")):\n    print(\"\\nExporting other components...\")\n    exported_models = export_all_components(\n        output_dir=model_dir,\n        # Use simplified versions for testing\n        codec_encoder={'use_simplified': True},\n        codec_decoder={'use_simplified': True},\n        transformer={'use_simplified': True}\n    )\nelse:\n    print(f\"\\nOther models already exported to {model_dir}\")\n    \n# List all exported models\nall_models = []\n# Add VampNet codec models\nfor f in Path(vampnet_codec_dir).glob(\"*.onnx\"):\n    all_models.append(f)\n# Add other models\nfor f in Path(model_dir).glob(\"*.onnx\"):\n    if f.parent.name != \"vampnet_codec\":  # Skip duplicates\n        all_models.append(f)\n\nprint(\"\\n\\nAll exported models:\")\nfor model_file in all_models:\n    size_mb = os.path.getsize(model_file) / (1024 * 1024)\n    print(f\"  - {model_file.parent.name}/{model_file.name}: {size_mb:.2f} MB\")",
   "outputs": [
    {
     "name": "stdout",
     "output_type": "stream",
     "text": [
      "VampNet codec models already exported to ../onnx_models/vampnet_codec\n",
      "\n",
      "Other models already exported to ../onnx_models\n",
      "\n",
      "\n",
      "All exported models:\n",
      "  - vampnet_codec/decoder.onnx: 487.08 MB\n",
      "  - vampnet_codec/decoder_opt.onnx: 487.10 MB\n",
      "  - vampnet_codec/encoder.onnx: 87.27 MB\n",
      "  - vampnet_codec/encoder_opt.onnx: 87.63 MB\n",
      "  - onnx_models/transformer.onnx: 38.16 MB\n",
      "  - onnx_models/mask_generator.onnx: 0.01 MB\n",
      "  - onnx_models/codec_decoder_opt.onnx: 100.52 MB\n",
      "  - onnx_models/audio_processor.onnx: 0.01 MB\n",
      "  - onnx_models/codec_decoder.onnx: 100.52 MB\n",
      "  - onnx_models/codec_encoder.onnx: 72.63 MB\n",
      "  - onnx_models/codec_encoder_opt.onnx: 72.61 MB\n",
      "  - onnx_models/transformer_opt.onnx: 38.04 MB\n"
     ]
    }
   ],
   "execution_count": 2
  },
  {
   "cell_type": "code",
   "source": "def apply_dynamic_quantization(input_path: str, output_path: str, weight_type=QuantType.QUInt8):\n    \"\"\"\n    Apply dynamic quantization to reduce model size.\n    \"\"\"\n    try:\n        # Fix type inference issues before quantization\n        import onnx\n        import onnx.shape_inference\n        \n        # Load and infer shapes to fix missing type information\n        model = onnx.load(input_path)\n        if len(model.graph.value_info) == 0:\n            print(\"  Fixing missing type information...\")\n            model = onnx.shape_inference.infer_shapes(model)\n            # Save fixed model to temp file\n            temp_path = input_path.replace('.onnx', '_temp.onnx')\n            onnx.save(model, temp_path)\n            input_path = temp_path\n        \n        # For transformer models, we might need to specify extra options\n        extra_options = {}\n        if 'transformer' in input_path.lower():\n            extra_options = {'DefaultTensorType': onnx.TensorProto.FLOAT}\n        \n        # Try quantization\n        quantize_dynamic(\n            model_input=input_path,\n            model_output=output_path,\n            weight_type=weight_type,\n            extra_options=extra_options if extra_options else None\n        )\n        \n        # Clean up temp file if created\n        if 'temp.onnx' in input_path:\n            os.remove(input_path)\n        \n        # Compare sizes\n        original_size = os.path.getsize(input_path.replace('_temp.onnx', '.onnx')) / (1024 * 1024)\n        quantized_size = os.path.getsize(output_path) / (1024 * 1024)\n        reduction = (1 - quantized_size / original_size) * 100\n        \n        print(f\"  Quantized: {original_size:.2f} MB -> {quantized_size:.2f} MB ({reduction:.1f}%)\")\n        return quantized_size\n        \n    except Exception as e:\n        # If it fails, it might be due to unsupported operations\n        print(f\"  Quantization failed: {str(e)[:200]}...\")\n        raise",
   "metadata": {
    "ExecuteTime": {
     "end_time": "2025-06-06T18:53:50.720831Z",
     "start_time": "2025-06-06T18:53:50.717686Z"
    }
   },
   "outputs": [],
   "execution_count": 3
  },
  {
   "cell_type": "code",
   "metadata": {
    "ExecuteTime": {
     "end_time": "2025-06-06T18:53:54.404824Z",
     "start_time": "2025-06-06T18:53:50.731244Z"
    }
   },
   "source": "def optimize_onnx_model(input_path: str, output_path: str, optimization_level: int = 99):\n    \"\"\"\n    Optimize ONNX model using ONNX Runtime optimizations.\n    \n    Optimization levels:\n    - 0: Disable all optimizations\n    - 1: Basic optimizations\n    - 2: Extended optimizations (portable)\n    - 99: All optimizations (may include hardware-specific)\n    \"\"\"\n    # Create session with optimization\n    sess_options = ort.SessionOptions()\n    \n    # Use EXTENDED level for better portability\n    if optimization_level == 99:\n        sess_options.graph_optimization_level = ort.GraphOptimizationLevel.ORT_ENABLE_ALL\n        print(\"Warning: Using ALL optimizations (may include hardware-specific optimizations)\")\n    elif optimization_level == 2:\n        sess_options.graph_optimization_level = ort.GraphOptimizationLevel.ORT_ENABLE_EXTENDED\n    elif optimization_level == 1:\n        sess_options.graph_optimization_level = ort.GraphOptimizationLevel.ORT_ENABLE_BASIC\n    else:\n        sess_options.graph_optimization_level = ort.GraphOptimizationLevel.ORT_DISABLE_ALL\n    \n    sess_options.optimized_model_filepath = output_path\n    \n    # Load and optimize\n    _ = ort.InferenceSession(input_path, sess_options)\n    \n    print(f\"Optimized model saved to {output_path}\")\n    \n    # Compare sizes\n    original_size = os.path.getsize(input_path) / (1024 * 1024)\n    optimized_size = os.path.getsize(output_path) / (1024 * 1024)\n    reduction = (1 - optimized_size / original_size) * 100\n    \n    print(f\"Size reduction: {original_size:.2f} MB -> {optimized_size:.2f} MB ({reduction:.1f}%)\")\n    return optimized_size\n\n\n# Optimize each model with EXTENDED level for portability\noptimized_dir = \"../onnx_models_optimized\"\nos.makedirs(optimized_dir, exist_ok=True)\n\noptimization_results = {}\n\n# Use the all_models list we created earlier\nfor model_file in all_models:\n    print(f\"\\nOptimizing {model_file.name}...\")\n    \n    output_path = os.path.join(optimized_dir, model_file.name)\n    # Use level 2 (EXTENDED) for portable optimizations\n    optimized_size = optimize_onnx_model(str(model_file), output_path, optimization_level=2)\n    \n    optimization_results[model_file.name] = {\n        'original': os.path.getsize(model_file) / (1024 * 1024),\n        'optimized': optimized_size\n    }",
   "outputs": [
    {
     "name": "stdout",
     "output_type": "stream",
     "text": [
      "\n",
      "Optimizing decoder.onnx...\n",
      "Optimized model saved to ../onnx_models_optimized/decoder.onnx\n",
      "Size reduction: 487.08 MB -> 487.10 MB (-0.0%)\n",
      "\n",
      "Optimizing decoder_opt.onnx...\n",
      "Optimized model saved to ../onnx_models_optimized/decoder_opt.onnx\n",
      "Size reduction: 487.10 MB -> 487.05 MB (0.0%)\n",
      "\n",
      "Optimizing encoder.onnx...\n",
      "Optimized model saved to ../onnx_models_optimized/encoder.onnx\n",
      "Size reduction: 87.27 MB -> 87.63 MB (-0.4%)\n",
      "\n",
      "Optimizing encoder_opt.onnx...\n",
      "Optimized model saved to ../onnx_models_optimized/encoder_opt.onnx\n",
      "Size reduction: 87.63 MB -> 87.60 MB (0.0%)\n",
      "\n",
      "Optimizing transformer.onnx...\n",
      "Optimized model saved to ../onnx_models_optimized/transformer.onnx\n",
      "Size reduction: 38.16 MB -> 38.04 MB (0.3%)\n",
      "\n",
      "Optimizing mask_generator.onnx...\n",
      "Optimized model saved to ../onnx_models_optimized/mask_generator.onnx\n",
      "Size reduction: 0.01 MB -> 0.00 MB (38.2%)\n",
      "\n",
      "Optimizing codec_decoder_opt.onnx...\n",
      "Optimized model saved to ../onnx_models_optimized/codec_decoder_opt.onnx\n",
      "Size reduction: 100.52 MB -> 100.52 MB (0.0%)\n",
      "\n",
      "Optimizing audio_processor.onnx...\n",
      "Optimized model saved to ../onnx_models_optimized/audio_processor.onnx\n",
      "Size reduction: 0.01 MB -> 0.00 MB (36.2%)\n",
      "\n",
      "Optimizing codec_decoder.onnx...\n",
      "Optimized model saved to ../onnx_models_optimized/codec_decoder.onnx\n",
      "Size reduction: 100.52 MB -> 100.52 MB (0.0%)\n",
      "\n",
      "Optimizing codec_encoder.onnx...\n",
      "Optimized model saved to ../onnx_models_optimized/codec_encoder.onnx\n",
      "Size reduction: 72.63 MB -> 72.61 MB (0.0%)\n",
      "\n",
      "Optimizing codec_encoder_opt.onnx...\n",
      "Optimized model saved to ../onnx_models_optimized/codec_encoder_opt.onnx\n",
      "Size reduction: 72.61 MB -> 72.59 MB (0.0%)\n",
      "\n",
      "Optimizing transformer_opt.onnx...\n",
      "Optimized model saved to ../onnx_models_optimized/transformer_opt.onnx\n",
      "Size reduction: 38.04 MB -> 37.99 MB (0.1%)\n"
     ]
    }
   ],
   "execution_count": 4
  },
  {
   "cell_type": "code",
   "source": "# Apply dynamic quantization to all models including VampNet codec\nprint(\"\\nApplying dynamic quantization...\")\nprint(\"Note: Warnings about preprocessing and data type inference are normal.\\n\")\n\n# Models to quantize with their configurations\nmodels_to_quantize = [\n    # VampNet codec models\n    (Path(vampnet_codec_dir) / \"encoder.onnx\", \"vampnet_encoder_int8.onnx\", QuantType.QUInt8),\n    (Path(vampnet_codec_dir) / \"decoder.onnx\", \"vampnet_decoder_int8.onnx\", QuantType.QUInt8),\n    # Other models\n    (Path(model_dir) / \"transformer.onnx\", \"transformer_int8.onnx\", QuantType.QUInt8),\n    (Path(model_dir) / \"codec_encoder.onnx\", \"simplified_encoder_int8.onnx\", QuantType.QUInt8),\n    (Path(model_dir) / \"codec_decoder.onnx\", \"simplified_decoder_int8.onnx\", QuantType.QUInt8),\n]\n\nquantized_dir = \"../onnx_models_quantized\"\nos.makedirs(quantized_dir, exist_ok=True)\n\nquantization_results = {}\n\nfor input_path, output_name, weight_type in models_to_quantize:\n    if not input_path.exists():\n        print(f\"Skipping {input_path.name} (not found)\")\n        continue\n        \n    print(f\"\\nQuantizing {input_path.name}...\")\n    output_path = os.path.join(quantized_dir, output_name)\n    \n    try:\n        # First optimize the model\n        optimized_path = str(input_path).replace('.onnx', '_opt.onnx')\n        optimize_onnx_model(str(input_path), optimized_path, optimization_level=2)\n        \n        # Then quantize\n        quantized_size = apply_dynamic_quantization(optimized_path, output_path, weight_type=weight_type)\n        \n        # Clean up temp file\n        if os.path.exists(optimized_path):\n            os.remove(optimized_path)\n            \n        quantization_results[input_path.name] = {\n            'original': os.path.getsize(input_path) / (1024 * 1024),\n            'quantized': quantized_size\n        }\n    except Exception as e:\n        print(f\"  Failed to quantize: {str(e)[:100]}...\")\n\nprint(f\"\\n✓ Quantization complete!\")\nif quantization_results:\n    print(\"\\nQuantized models:\")\n    for model, sizes in quantization_results.items():\n        reduction = (1 - sizes['quantized']/sizes['original']) * 100\n        print(f\"  - {model}: {sizes['original']:.1f}MB → {sizes['quantized']:.1f}MB ({reduction:.1f}% smaller)\")",
   "metadata": {
    "ExecuteTime": {
     "end_time": "2025-06-06T18:54:04.540965Z",
     "start_time": "2025-06-06T18:53:54.415606Z"
    }
   },
   "outputs": [
    {
     "name": "stdout",
     "output_type": "stream",
     "text": [
      "\n",
      "Applying dynamic quantization...\n",
      "Note: Warnings about preprocessing and data type inference are normal.\n",
      "\n",
      "\n",
      "Quantizing encoder.onnx...\n",
      "Optimized model saved to ../onnx_models/vampnet_codec/encoder_opt.onnx\n",
      "Size reduction: 87.27 MB -> 87.63 MB (-0.4%)\n"
     ]
    },
    {
     "name": "stderr",
     "output_type": "stream",
     "text": [
      "WARNING:root:Please consider to run pre-processing before quantization. Refer to example: https://github.com/microsoft/onnxruntime-inference-examples/blob/main/quantization/image_classification/cpu/ReadMe.md \n",
      "WARNING:root:Inference failed or unsupported type to quantize for tensor '/Slice_output_0', type is tensor_type {\n",
      "  elem_type: 7\n",
      "  shape {\n",
      "    dim {\n",
      "      dim_value: 3\n",
      "    }\n",
      "    dim {\n",
      "      dim_value: 2\n",
      "    }\n",
      "  }\n",
      "}\n",
      ".\n",
      "WARNING:root:Inference failed or unsupported type to quantize for tensor '/Slice_1_output_0', type is tensor_type {\n",
      "  elem_type: 7\n",
      "  shape {\n",
      "    dim {\n",
      "      dim_value: 3\n",
      "    }\n",
      "    dim {\n",
      "      dim_value: 2\n",
      "    }\n",
      "  }\n",
      "}\n",
      ".\n",
      "INFO:root:Quantization parameters for tensor:\"/Pad_1_output_0\" not specified\n",
      "INFO:root:Quantization parameters for tensor:\"input.3\" not specified\n",
      "INFO:root:Quantization parameters for tensor:\"input.7\" not specified\n",
      "INFO:root:Quantization parameters for tensor:\"input.11\" not specified\n",
      "INFO:root:Quantization parameters for tensor:\"input.15\" not specified\n",
      "INFO:root:Quantization parameters for tensor:\"input.19\" not specified\n",
      "INFO:root:Quantization parameters for tensor:\"input.23\" not specified\n",
      "INFO:root:Quantization parameters for tensor:\"input.27\" not specified\n",
      "INFO:root:Quantization parameters for tensor:\"input.31\" not specified\n",
      "INFO:root:Quantization parameters for tensor:\"input.35\" not specified\n",
      "INFO:root:Quantization parameters for tensor:\"input.39\" not specified\n",
      "INFO:root:Quantization parameters for tensor:\"input.43\" not specified\n",
      "INFO:root:Quantization parameters for tensor:\"input.47\" not specified\n",
      "INFO:root:Quantization parameters for tensor:\"input.51\" not specified\n",
      "INFO:root:Quantization parameters for tensor:\"input.55\" not specified\n",
      "INFO:root:Quantization parameters for tensor:\"input.59\" not specified\n",
      "INFO:root:Quantization parameters for tensor:\"input.63\" not specified\n",
      "INFO:root:Quantization parameters for tensor:\"input.67\" not specified\n",
      "INFO:root:Quantization parameters for tensor:\"input.71\" not specified\n",
      "INFO:root:Quantization parameters for tensor:\"input.75\" not specified\n",
      "INFO:root:Quantization parameters for tensor:\"input.79\" not specified\n",
      "INFO:root:Quantization parameters for tensor:\"input.83\" not specified\n",
      "INFO:root:Quantization parameters for tensor:\"input.87\" not specified\n",
      "INFO:root:Quantization parameters for tensor:\"input.91\" not specified\n",
      "INFO:root:Quantization parameters for tensor:\"input.95\" not specified\n",
      "INFO:root:Quantization parameters for tensor:\"input.99\" not specified\n",
      "INFO:root:Quantization parameters for tensor:\"input.103\" not specified\n",
      "INFO:root:Quantization parameters for tensor:\"input.107\" not specified\n",
      "INFO:root:Quantization parameters for tensor:\"input.111\" not specified\n",
      "INFO:root:Quantization parameters for tensor:\"input.115\" not specified\n",
      "INFO:root:Quantization parameters for tensor:\"/encoder/block/block.6/Conv_output_0\" not specified\n",
      "INFO:root:Quantization parameters for tensor:\"/quantizer/quantizers.0/Add_5_output_0\" not specified\n",
      "INFO:root:Quantization parameters for tensor:\"/quantizer/Sub_output_0\" not specified\n",
      "INFO:root:Quantization parameters for tensor:\"/quantizer/quantizers.1/Add_5_output_0\" not specified\n",
      "INFO:root:Quantization parameters for tensor:\"/quantizer/Sub_1_output_0\" not specified\n",
      "INFO:root:Quantization parameters for tensor:\"/quantizer/quantizers.2/Add_5_output_0\" not specified\n",
      "INFO:root:Quantization parameters for tensor:\"/quantizer/Sub_2_output_0\" not specified\n",
      "INFO:root:Quantization parameters for tensor:\"/quantizer/quantizers.3/Add_5_output_0\" not specified\n",
      "INFO:root:Quantization parameters for tensor:\"/quantizer/Sub_3_output_0\" not specified\n",
      "INFO:root:Quantization parameters for tensor:\"/quantizer/quantizers.4/Add_5_output_0\" not specified\n",
      "INFO:root:Quantization parameters for tensor:\"/quantizer/Sub_4_output_0\" not specified\n",
      "INFO:root:Quantization parameters for tensor:\"/quantizer/quantizers.5/Add_5_output_0\" not specified\n",
      "INFO:root:Quantization parameters for tensor:\"/quantizer/Sub_5_output_0\" not specified\n",
      "INFO:root:Quantization parameters for tensor:\"/quantizer/quantizers.6/Add_5_output_0\" not specified\n",
      "INFO:root:Quantization parameters for tensor:\"/quantizer/Sub_6_output_0\" not specified\n",
      "INFO:root:Quantization parameters for tensor:\"/quantizer/quantizers.7/Add_5_output_0\" not specified\n",
      "INFO:root:Quantization parameters for tensor:\"/quantizer/Sub_7_output_0\" not specified\n",
      "INFO:root:Quantization parameters for tensor:\"/quantizer/quantizers.8/Add_5_output_0\" not specified\n",
      "INFO:root:Quantization parameters for tensor:\"/quantizer/Sub_8_output_0\" not specified\n",
      "INFO:root:Quantization parameters for tensor:\"/quantizer/quantizers.9/Add_5_output_0\" not specified\n",
      "INFO:root:Quantization parameters for tensor:\"/quantizer/Sub_9_output_0\" not specified\n",
      "INFO:root:Quantization parameters for tensor:\"/quantizer/quantizers.10/Add_5_output_0\" not specified\n",
      "INFO:root:Quantization parameters for tensor:\"/quantizer/Sub_10_output_0\" not specified\n",
      "INFO:root:Quantization parameters for tensor:\"/quantizer/quantizers.11/Add_5_output_0\" not specified\n",
      "INFO:root:Quantization parameters for tensor:\"/quantizer/Sub_11_output_0\" not specified\n",
      "INFO:root:Quantization parameters for tensor:\"/quantizer/quantizers.12/Add_5_output_0\" not specified\n",
      "INFO:root:Quantization parameters for tensor:\"/quantizer/Sub_12_output_0\" not specified\n"
     ]
    },
    {
     "name": "stdout",
     "output_type": "stream",
     "text": [
      "  Quantized: 87.63 MB -> 22.67 MB (74.1%)\n",
      "\n",
      "Quantizing decoder.onnx...\n",
      "Optimized model saved to ../onnx_models/vampnet_codec/decoder_opt.onnx\n",
      "Size reduction: 487.08 MB -> 487.10 MB (-0.0%)\n"
     ]
    },
    {
     "name": "stderr",
     "output_type": "stream",
     "text": [
      "WARNING:root:Please consider to run pre-processing before quantization. Refer to example: https://github.com/microsoft/onnxruntime-inference-examples/blob/main/quantization/image_classification/cpu/ReadMe.md \n",
      "INFO:root:Quantization parameters for tensor:\"/Add_13_output_0\" not specified\n",
      "INFO:root:Quantization parameters for tensor:\"input.107\" not specified\n",
      "INFO:root:Quantization parameters for tensor:\"input.111\" not specified\n",
      "INFO:root:Quantization parameters for tensor:\"input.115\" not specified\n",
      "INFO:root:Quantization parameters for tensor:\"input.119\" not specified\n",
      "INFO:root:Quantization parameters for tensor:\"input.123\" not specified\n",
      "INFO:root:Quantization parameters for tensor:\"input.127\" not specified\n",
      "INFO:root:Quantization parameters for tensor:\"input.83\" not specified\n",
      "INFO:root:Quantization parameters for tensor:\"input.87\" not specified\n",
      "INFO:root:Quantization parameters for tensor:\"input.91\" not specified\n",
      "INFO:root:Quantization parameters for tensor:\"input.95\" not specified\n",
      "INFO:root:Quantization parameters for tensor:\"input.99\" not specified\n",
      "INFO:root:Quantization parameters for tensor:\"input.103\" not specified\n",
      "INFO:root:Quantization parameters for tensor:\"input.59\" not specified\n",
      "INFO:root:Quantization parameters for tensor:\"input.63\" not specified\n",
      "INFO:root:Quantization parameters for tensor:\"input.67\" not specified\n",
      "INFO:root:Quantization parameters for tensor:\"input.71\" not specified\n",
      "INFO:root:Quantization parameters for tensor:\"input.75\" not specified\n",
      "INFO:root:Quantization parameters for tensor:\"input.79\" not specified\n",
      "INFO:root:Quantization parameters for tensor:\"input.179\" not specified\n",
      "INFO:root:Quantization parameters for tensor:\"input.183\" not specified\n",
      "INFO:root:Quantization parameters for tensor:\"input.187\" not specified\n",
      "INFO:root:Quantization parameters for tensor:\"input.191\" not specified\n",
      "INFO:root:Quantization parameters for tensor:\"input.195\" not specified\n",
      "INFO:root:Quantization parameters for tensor:\"input.199\" not specified\n",
      "INFO:root:Quantization parameters for tensor:\"input.155\" not specified\n",
      "INFO:root:Quantization parameters for tensor:\"input.159\" not specified\n",
      "INFO:root:Quantization parameters for tensor:\"input.163\" not specified\n",
      "INFO:root:Quantization parameters for tensor:\"input.167\" not specified\n",
      "INFO:root:Quantization parameters for tensor:\"input.171\" not specified\n",
      "INFO:root:Quantization parameters for tensor:\"input.175\" not specified\n",
      "INFO:root:Quantization parameters for tensor:\"input.131\" not specified\n",
      "INFO:root:Quantization parameters for tensor:\"input.135\" not specified\n",
      "INFO:root:Quantization parameters for tensor:\"input.139\" not specified\n",
      "INFO:root:Quantization parameters for tensor:\"input.143\" not specified\n",
      "INFO:root:Quantization parameters for tensor:\"input.147\" not specified\n",
      "INFO:root:Quantization parameters for tensor:\"input.151\" not specified\n",
      "INFO:root:Quantization parameters for tensor:\"input.251\" not specified\n",
      "INFO:root:Quantization parameters for tensor:\"input.255\" not specified\n",
      "INFO:root:Quantization parameters for tensor:\"input.259\" not specified\n",
      "INFO:root:Quantization parameters for tensor:\"input.263\" not specified\n",
      "INFO:root:Quantization parameters for tensor:\"input.267\" not specified\n",
      "INFO:root:Quantization parameters for tensor:\"input.271\" not specified\n",
      "INFO:root:Quantization parameters for tensor:\"input.227\" not specified\n",
      "INFO:root:Quantization parameters for tensor:\"input.231\" not specified\n",
      "INFO:root:Quantization parameters for tensor:\"input.235\" not specified\n",
      "INFO:root:Quantization parameters for tensor:\"input.239\" not specified\n",
      "INFO:root:Quantization parameters for tensor:\"input.243\" not specified\n",
      "INFO:root:Quantization parameters for tensor:\"input.247\" not specified\n",
      "INFO:root:Quantization parameters for tensor:\"input.203\" not specified\n",
      "INFO:root:Quantization parameters for tensor:\"input.207\" not specified\n",
      "INFO:root:Quantization parameters for tensor:\"input.211\" not specified\n",
      "INFO:root:Quantization parameters for tensor:\"input.215\" not specified\n",
      "INFO:root:Quantization parameters for tensor:\"input.219\" not specified\n",
      "INFO:root:Quantization parameters for tensor:\"input.223\" not specified\n",
      "INFO:root:Quantization parameters for tensor:\"input.323\" not specified\n",
      "INFO:root:Quantization parameters for tensor:\"input.327\" not specified\n",
      "INFO:root:Quantization parameters for tensor:\"input.331\" not specified\n",
      "INFO:root:Quantization parameters for tensor:\"input.335\" not specified\n",
      "INFO:root:Quantization parameters for tensor:\"input.339\" not specified\n",
      "INFO:root:Quantization parameters for tensor:\"input.343\" not specified\n",
      "INFO:root:Quantization parameters for tensor:\"input.299\" not specified\n",
      "INFO:root:Quantization parameters for tensor:\"input.303\" not specified\n",
      "INFO:root:Quantization parameters for tensor:\"input.307\" not specified\n",
      "INFO:root:Quantization parameters for tensor:\"input.311\" not specified\n",
      "INFO:root:Quantization parameters for tensor:\"input.315\" not specified\n",
      "INFO:root:Quantization parameters for tensor:\"input.319\" not specified\n",
      "INFO:root:Quantization parameters for tensor:\"input.275\" not specified\n",
      "INFO:root:Quantization parameters for tensor:\"input.279\" not specified\n",
      "INFO:root:Quantization parameters for tensor:\"input.283\" not specified\n",
      "INFO:root:Quantization parameters for tensor:\"input.287\" not specified\n",
      "INFO:root:Quantization parameters for tensor:\"input.291\" not specified\n",
      "INFO:root:Quantization parameters for tensor:\"input.295\" not specified\n",
      "INFO:root:Quantization parameters for tensor:\"input.395\" not specified\n",
      "INFO:root:Quantization parameters for tensor:\"input.399\" not specified\n",
      "INFO:root:Quantization parameters for tensor:\"input.403\" not specified\n",
      "INFO:root:Quantization parameters for tensor:\"input.407\" not specified\n",
      "INFO:root:Quantization parameters for tensor:\"input.411\" not specified\n",
      "INFO:root:Quantization parameters for tensor:\"input.415\" not specified\n",
      "INFO:root:Quantization parameters for tensor:\"input.371\" not specified\n",
      "INFO:root:Quantization parameters for tensor:\"input.375\" not specified\n",
      "INFO:root:Quantization parameters for tensor:\"input.379\" not specified\n",
      "INFO:root:Quantization parameters for tensor:\"input.383\" not specified\n",
      "INFO:root:Quantization parameters for tensor:\"input.387\" not specified\n",
      "INFO:root:Quantization parameters for tensor:\"input.391\" not specified\n",
      "INFO:root:Quantization parameters for tensor:\"input.347\" not specified\n",
      "INFO:root:Quantization parameters for tensor:\"input.351\" not specified\n",
      "INFO:root:Quantization parameters for tensor:\"input.355\" not specified\n",
      "INFO:root:Quantization parameters for tensor:\"input.359\" not specified\n",
      "INFO:root:Quantization parameters for tensor:\"input.363\" not specified\n",
      "INFO:root:Quantization parameters for tensor:\"input.367\" not specified\n",
      "INFO:root:Quantization parameters for tensor:\"input.467\" not specified\n",
      "INFO:root:Quantization parameters for tensor:\"input.471\" not specified\n",
      "INFO:root:Quantization parameters for tensor:\"input.475\" not specified\n",
      "INFO:root:Quantization parameters for tensor:\"input.479\" not specified\n",
      "INFO:root:Quantization parameters for tensor:\"input.483\" not specified\n",
      "INFO:root:Quantization parameters for tensor:\"input.487\" not specified\n",
      "INFO:root:Quantization parameters for tensor:\"input.443\" not specified\n",
      "INFO:root:Quantization parameters for tensor:\"input.447\" not specified\n",
      "INFO:root:Quantization parameters for tensor:\"input.451\" not specified\n",
      "INFO:root:Quantization parameters for tensor:\"input.455\" not specified\n",
      "INFO:root:Quantization parameters for tensor:\"input.459\" not specified\n",
      "INFO:root:Quantization parameters for tensor:\"input.463\" not specified\n",
      "INFO:root:Quantization parameters for tensor:\"input.419\" not specified\n",
      "INFO:root:Quantization parameters for tensor:\"input.423\" not specified\n",
      "INFO:root:Quantization parameters for tensor:\"input.427\" not specified\n",
      "INFO:root:Quantization parameters for tensor:\"input.431\" not specified\n",
      "INFO:root:Quantization parameters for tensor:\"input.435\" not specified\n",
      "INFO:root:Quantization parameters for tensor:\"input.439\" not specified\n"
     ]
    },
    {
     "name": "stdout",
     "output_type": "stream",
     "text": [
      "  Quantized: 487.10 MB -> 171.75 MB (64.7%)\n",
      "\n",
      "Quantizing transformer.onnx...\n",
      "Optimized model saved to ../onnx_models/transformer_opt.onnx\n",
      "Size reduction: 38.16 MB -> 38.04 MB (0.3%)\n"
     ]
    },
    {
     "name": "stderr",
     "output_type": "stream",
     "text": [
      "WARNING:root:Please consider to run pre-processing before quantization. Refer to example: https://github.com/microsoft/onnxruntime-inference-examples/blob/main/quantization/image_classification/cpu/ReadMe.md \n",
      "INFO:root:Quantization parameters for tensor:\"/model/transformer/layers.0/self_attn/Transpose_output_0\" not specified\n",
      "INFO:root:Ignore MatMul due to non constant B: /[/model/transformer/layers.0/self_attn/MatMul_1]\n",
      "INFO:root:Ignore MatMul due to non constant B: /[/model/transformer/layers.0/self_attn/MatMul_2]\n",
      "INFO:root:Quantization parameters for tensor:\"/model/transformer/layers.0/self_attn/Reshape_9_output_0\" not specified\n",
      "INFO:root:Quantization parameters for tensor:\"/model/transformer/layers.0/norm1/Add_1_output_0\" not specified\n",
      "INFO:root:Quantization parameters for tensor:\"/model/transformer/layers.0/Relu_output_0\" not specified\n",
      "INFO:root:Quantization parameters for tensor:\"/model/transformer/layers.1/self_attn/Transpose_output_0\" not specified\n",
      "INFO:root:Ignore MatMul due to non constant B: /[/model/transformer/layers.1/self_attn/MatMul_1]\n",
      "INFO:root:Ignore MatMul due to non constant B: /[/model/transformer/layers.1/self_attn/MatMul_2]\n",
      "INFO:root:Quantization parameters for tensor:\"/model/transformer/layers.1/self_attn/Reshape_9_output_0\" not specified\n",
      "INFO:root:Quantization parameters for tensor:\"/model/transformer/layers.1/norm1/Add_1_output_0\" not specified\n",
      "INFO:root:Quantization parameters for tensor:\"/model/transformer/layers.1/Relu_output_0\" not specified\n",
      "INFO:root:Quantization parameters for tensor:\"/model/transformer/layers.2/self_attn/Transpose_output_0\" not specified\n",
      "INFO:root:Ignore MatMul due to non constant B: /[/model/transformer/layers.2/self_attn/MatMul_1]\n",
      "INFO:root:Ignore MatMul due to non constant B: /[/model/transformer/layers.2/self_attn/MatMul_2]\n",
      "INFO:root:Quantization parameters for tensor:\"/model/transformer/layers.2/self_attn/Reshape_9_output_0\" not specified\n",
      "INFO:root:Quantization parameters for tensor:\"/model/transformer/layers.2/norm1/Add_1_output_0\" not specified\n",
      "INFO:root:Quantization parameters for tensor:\"/model/transformer/layers.2/Relu_output_0\" not specified\n",
      "INFO:root:Quantization parameters for tensor:\"/model/transformer/layers.3/self_attn/Transpose_output_0\" not specified\n",
      "INFO:root:Ignore MatMul due to non constant B: /[/model/transformer/layers.3/self_attn/MatMul_1]\n",
      "INFO:root:Ignore MatMul due to non constant B: /[/model/transformer/layers.3/self_attn/MatMul_2]\n",
      "INFO:root:Quantization parameters for tensor:\"/model/transformer/layers.3/self_attn/Reshape_9_output_0\" not specified\n",
      "INFO:root:Quantization parameters for tensor:\"/model/transformer/layers.3/norm1/Add_1_output_0\" not specified\n",
      "INFO:root:Quantization parameters for tensor:\"/model/transformer/layers.3/Relu_output_0\" not specified\n",
      "INFO:root:Quantization parameters for tensor:\"/model/transformer/layers.4/self_attn/Transpose_output_0\" not specified\n",
      "INFO:root:Ignore MatMul due to non constant B: /[/model/transformer/layers.4/self_attn/MatMul_1]\n",
      "INFO:root:Ignore MatMul due to non constant B: /[/model/transformer/layers.4/self_attn/MatMul_2]\n",
      "INFO:root:Quantization parameters for tensor:\"/model/transformer/layers.4/self_attn/Reshape_9_output_0\" not specified\n",
      "INFO:root:Quantization parameters for tensor:\"/model/transformer/layers.4/norm1/Add_1_output_0\" not specified\n",
      "INFO:root:Quantization parameters for tensor:\"/model/transformer/layers.4/Relu_output_0\" not specified\n",
      "INFO:root:Quantization parameters for tensor:\"/model/transformer/layers.5/self_attn/Transpose_output_0\" not specified\n",
      "INFO:root:Ignore MatMul due to non constant B: /[/model/transformer/layers.5/self_attn/MatMul_1]\n",
      "INFO:root:Ignore MatMul due to non constant B: /[/model/transformer/layers.5/self_attn/MatMul_2]\n",
      "INFO:root:Quantization parameters for tensor:\"/model/transformer/layers.5/self_attn/Reshape_9_output_0\" not specified\n",
      "INFO:root:Quantization parameters for tensor:\"/model/transformer/layers.5/norm1/Add_1_output_0\" not specified\n",
      "INFO:root:Quantization parameters for tensor:\"/model/transformer/layers.5/Relu_output_0\" not specified\n",
      "INFO:root:Quantization parameters for tensor:\"/model/transformer/layers.5/norm2/Add_1_output_0\" not specified\n"
     ]
    },
    {
     "name": "stdout",
     "output_type": "stream",
     "text": [
      "  Quantized: 38.04 MB -> 17.07 MB (55.1%)\n",
      "\n",
      "Quantizing codec_encoder.onnx...\n",
      "Optimized model saved to ../onnx_models/codec_encoder_opt.onnx\n",
      "Size reduction: 72.63 MB -> 72.61 MB (0.0%)\n"
     ]
    },
    {
     "name": "stderr",
     "output_type": "stream",
     "text": [
      "WARNING:root:Please consider to run pre-processing before quantization. Refer to example: https://github.com/microsoft/onnxruntime-inference-examples/blob/main/quantization/image_classification/cpu/ReadMe.md \n",
      "INFO:root:Quantization parameters for tensor:\"/encoder/encoder.3/Relu_output_0\" not specified\n"
     ]
    },
    {
     "name": "stdout",
     "output_type": "stream",
     "text": [
      "  Quantized: 72.61 MB -> 41.11 MB (43.4%)\n",
      "\n",
      "Quantizing codec_decoder.onnx...\n",
      "Optimized model saved to ../onnx_models/codec_decoder_opt.onnx\n",
      "Size reduction: 100.52 MB -> 100.52 MB (0.0%)\n"
     ]
    },
    {
     "name": "stderr",
     "output_type": "stream",
     "text": [
      "WARNING:root:Please consider to run pre-processing before quantization. Refer to example: https://github.com/microsoft/onnxruntime-inference-examples/blob/main/quantization/image_classification/cpu/ReadMe.md \n"
     ]
    },
    {
     "name": "stdout",
     "output_type": "stream",
     "text": [
      "  Quantized: 100.52 MB -> 79.53 MB (20.9%)\n",
      "\n",
      "✓ Quantization complete!\n",
      "\n",
      "Quantized models:\n",
      "  - encoder.onnx: 87.3MB → 22.7MB (74.0% smaller)\n",
      "  - decoder.onnx: 487.1MB → 171.8MB (64.7% smaller)\n",
      "  - transformer.onnx: 38.2MB → 17.1MB (55.3% smaller)\n",
      "  - codec_encoder.onnx: 72.6MB → 41.1MB (43.4% smaller)\n",
      "  - codec_decoder.onnx: 100.5MB → 79.5MB (20.9% smaller)\n"
     ]
    }
   ],
   "execution_count": 5
  },
  {
   "cell_type": "code",
   "metadata": {
    "ExecuteTime": {
     "end_time": "2025-06-06T18:54:04.552877Z",
     "start_time": "2025-06-06T18:54:04.551425Z"
    }
   },
   "source": "# This cell has been moved to the previous cell",
   "outputs": [],
   "execution_count": 6
  },
  {
   "cell_type": "markdown",
   "metadata": {},
   "source": [
    "## 4. Static Quantization (Advanced)"
   ]
  },
  {
   "cell_type": "code",
   "metadata": {
    "ExecuteTime": {
     "end_time": "2025-06-06T18:54:06.124860Z",
     "start_time": "2025-06-06T18:54:04.566989Z"
    }
   },
   "source": "class VampNetCalibrationDataReader(CalibrationDataReader):\n    \"\"\"\n    Calibration data reader for static quantization.\n    \"\"\"\n    def __init__(self, model_name: str, n_samples: int = 10):\n        self.model_name = model_name\n        self.n_samples = n_samples\n        self.data_iter = self._generate_calibration_data()\n        \n    def _generate_calibration_data(self):\n        \"\"\"Generate calibration data based on model type.\"\"\"\n        for i in range(self.n_samples):\n            if 'audio_processor' in self.model_name:\n                # Generate random audio\n                yield {'audio': np.random.randn(1, 2, 44100).astype(np.float32)}\n                \n            elif 'codec_encoder' in self.model_name:\n                # Generate preprocessed audio\n                yield {'audio': np.random.randn(1, 1, 44100).astype(np.float32)}\n                \n            elif 'mask_generator' in self.model_name:\n                # Generate token codes\n                yield {'codes': np.random.randint(0, 1024, (1, 14, 100), dtype=np.int64)}\n                \n            elif 'transformer' in self.model_name:\n                # Generate codes and mask\n                yield {\n                    'codes': np.random.randint(0, 1024, (1, 4, 100), dtype=np.int64),\n                    'mask': np.random.randint(0, 2, (1, 4, 100), dtype=np.int64)\n                }\n                \n            elif 'codec_decoder' in self.model_name:\n                # Generate token codes\n                yield {'codes': np.random.randint(0, 1024, (1, 14, 100), dtype=np.int64)}\n                \n    def get_next(self):\n        return next(self.data_iter, None)\n\n\ndef apply_static_quantization(input_path: str, output_path: str, model_name: str):\n    \"\"\"\n    Apply static quantization using calibration data.\n    \"\"\"\n    # Create calibration reader\n    calibration_reader = VampNetCalibrationDataReader(model_name)\n    \n    # Apply static quantization without optimize_model parameter\n    quantize_static(\n        model_input=input_path,\n        model_output=output_path,\n        calibration_data_reader=calibration_reader,\n        quant_format=QuantType.QInt8,\n        weight_type=QuantType.QInt8\n    )\n    \n    # Compare sizes\n    original_size = os.path.getsize(input_path) / (1024 * 1024)\n    quantized_size = os.path.getsize(output_path) / (1024 * 1024)\n    reduction = (1 - quantized_size / original_size) * 100\n    \n    print(f\"Static quantized: {original_size:.2f} MB -> {quantized_size:.2f} MB ({reduction:.1f}%)\")\n    return quantized_size\n\n\n# Apply static quantization to transformer (most compute-intensive)\nstatic_quantized_dir = \"onnx_models_static_quantized\"\nos.makedirs(static_quantized_dir, exist_ok=True)\n\ntransformer_path = os.path.join(optimized_dir, \"transformer.onnx\")\nif os.path.exists(transformer_path):\n    print(\"\\nApplying static quantization to transformer...\")\n    output_path = os.path.join(static_quantized_dir, \"transformer_static_int8.onnx\")\n    \n    try:\n        static_size = apply_static_quantization(transformer_path, output_path, \"transformer\")\n    except Exception as e:\n        print(f\"Static quantization failed: {e}\")",
   "outputs": [
    {
     "name": "stdout",
     "output_type": "stream",
     "text": [
      "\n",
      "Applying static quantization to transformer...\n"
     ]
    },
    {
     "name": "stderr",
     "output_type": "stream",
     "text": [
      "WARNING:root:Please consider to run pre-processing before quantization. Refer to example: https://github.com/microsoft/onnxruntime-inference-examples/blob/main/quantization/image_classification/cpu/ReadMe.md \n",
      "WARNING:root:Please use QuantFormat.QDQ for activation type QInt8 and weight type QInt8. Or it will lead to bad performance on x64.\n",
      "INFO:root:Created a copy of bias input 'model.transformer.layers.0.self_attn.out_proj.bias' called 'model.transformer.layers.0.self_attn.out_proj.bias0'\n",
      "INFO:root:Created a copy of bias input 'model.transformer.layers.0.self_attn.out_proj.bias' called 'model.transformer.layers.0.self_attn.out_proj.bias1'\n",
      "INFO:root:Created a copy of bias input 'model.transformer.layers.0.self_attn.out_proj.bias' called 'model.transformer.layers.0.self_attn.out_proj.bias2'\n",
      "INFO:root:Created a copy of bias input 'model.transformer.layers.0.self_attn.out_proj.bias' called 'model.transformer.layers.0.self_attn.out_proj.bias3'\n",
      "INFO:root:Created a copy of bias input 'model.transformer.layers.0.self_attn.out_proj.bias' called 'model.transformer.layers.0.self_attn.out_proj.bias4'\n",
      "INFO:root:Created a copy of bias input 'model.transformer.layers.0.self_attn.out_proj.bias' called 'model.transformer.layers.0.self_attn.out_proj.bias5'\n",
      "INFO:root:Created a copy of bias input 'model.transformer.layers.0.self_attn.out_proj.bias' called 'model.transformer.layers.0.self_attn.out_proj.bias6'\n",
      "INFO:root:Created a copy of bias input 'model.transformer.layers.0.self_attn.out_proj.bias' called 'model.transformer.layers.0.self_attn.out_proj.bias7'\n",
      "INFO:root:Created a copy of bias input 'model.transformer.layers.0.self_attn.out_proj.bias' called 'model.transformer.layers.0.self_attn.out_proj.bias8'\n",
      "INFO:root:Created a copy of bias input 'model.transformer.layers.0.self_attn.out_proj.bias' called 'model.transformer.layers.0.self_attn.out_proj.bias9'\n",
      "INFO:root:Created a copy of bias input 'model.transformer.layers.0.self_attn.out_proj.bias' called 'model.transformer.layers.0.self_attn.out_proj.bias10'\n",
      "WARNING:root:Please consider pre-processing before quantization. See https://github.com/microsoft/onnxruntime-inference-examples/blob/main/quantization/image_classification/cpu/ReadMe.md \n"
     ]
    },
    {
     "name": "stdout",
     "output_type": "stream",
     "text": [
      "Static quantized: 38.04 MB -> 17.23 MB (54.7%)\n"
     ]
    }
   ],
   "execution_count": 7
  },
  {
   "cell_type": "markdown",
   "metadata": {},
   "source": [
    "## 5. Performance Comparison"
   ]
  },
  {
   "cell_type": "code",
   "metadata": {
    "ExecuteTime": {
     "end_time": "2025-06-06T18:55:19.401057Z",
     "start_time": "2025-06-06T18:54:06.135164Z"
    }
   },
   "source": [
    "def compare_model_performance(model_paths: dict, input_data: dict, n_runs: int = 100):\n",
    "    \"\"\"\n",
    "    Compare performance of different model variants.\n",
    "    \"\"\"\n",
    "    results = {}\n",
    "    \n",
    "    for name, path in model_paths.items():\n",
    "        if not os.path.exists(path):\n",
    "            print(f\"Skipping {name}: file not found\")\n",
    "            continue\n",
    "            \n",
    "        print(f\"\\nBenchmarking {name}...\")\n",
    "        \n",
    "        try:\n",
    "            # Create session\n",
    "            session = create_onnx_session(path)\n",
    "            \n",
    "            # Benchmark\n",
    "            stats = benchmark_model(session, input_data, n_runs=n_runs, warmup_runs=10)\n",
    "            \n",
    "            # Add model size\n",
    "            stats['size_mb'] = os.path.getsize(path) / (1024 * 1024)\n",
    "            \n",
    "            results[name] = stats\n",
    "            \n",
    "        except Exception as e:\n",
    "            print(f\"Failed to benchmark {name}: {e}\")\n",
    "            \n",
    "    return results\n",
    "\n",
    "\n",
    "# Compare transformer variants\n",
    "transformer_variants = {\n",
    "    'original': os.path.join(model_dir, 'transformer.onnx'),\n",
    "    'optimized': os.path.join(optimized_dir, 'transformer.onnx'),\n",
    "    'dynamic_int8': os.path.join(quantized_dir, 'transformer_int8.onnx'),\n",
    "    'static_int8': os.path.join(static_quantized_dir, 'transformer_static_int8.onnx')\n",
    "}\n",
    "\n",
    "# Test data\n",
    "test_input = {\n",
    "    'codes': np.random.randint(0, 1024, (1, 4, 100), dtype=np.int64),\n",
    "    'mask': np.random.randint(0, 2, (1, 4, 100), dtype=np.int64)\n",
    "}\n",
    "\n",
    "# Run comparison\n",
    "perf_results = compare_model_performance(transformer_variants, test_input)\n",
    "\n",
    "# Visualize results\n",
    "if perf_results:\n",
    "    fig, (ax1, ax2) = plt.subplots(1, 2, figsize=(12, 5))\n",
    "    \n",
    "    # Inference time\n",
    "    names = list(perf_results.keys())\n",
    "    mean_times = [perf_results[n]['mean_ms'] for n in names]\n",
    "    \n",
    "    ax1.bar(names, mean_times)\n",
    "    ax1.set_ylabel('Mean Inference Time (ms)')\n",
    "    ax1.set_title('Inference Speed Comparison')\n",
    "    ax1.tick_params(axis='x', rotation=45)\n",
    "    \n",
    "    # Model size\n",
    "    sizes = [perf_results[n]['size_mb'] for n in names]\n",
    "    \n",
    "    ax2.bar(names, sizes)\n",
    "    ax2.set_ylabel('Model Size (MB)')\n",
    "    ax2.set_title('Model Size Comparison')\n",
    "    ax2.tick_params(axis='x', rotation=45)\n",
    "    \n",
    "    plt.tight_layout()\n",
    "    plt.show()"
   ],
   "outputs": [
    {
     "name": "stderr",
     "output_type": "stream",
     "text": [
      "\u001B[0;93m2025-06-06 19:54:06.172374 [W:onnxruntime:, helper.cc:89 IsInputSupported] CoreML does not support shapes with dimension values of 0. Input:/model/transformer/layers.0/self_attn/Slice_2_output_0, shape: {0}\u001B[m\n",
      "\u001B[0;93m2025-06-06 19:54:06.172418 [W:onnxruntime:, helper.cc:89 IsInputSupported] CoreML does not support shapes with dimension values of 0. Input:/model/transformer/layers.1/self_attn/Slice_2_output_0, shape: {0}\u001B[m\n",
      "\u001B[0;93m2025-06-06 19:54:06.172440 [W:onnxruntime:, helper.cc:89 IsInputSupported] CoreML does not support shapes with dimension values of 0. Input:/model/transformer/layers.2/self_attn/Slice_2_output_0, shape: {0}\u001B[m\n",
      "\u001B[0;93m2025-06-06 19:54:06.172461 [W:onnxruntime:, helper.cc:89 IsInputSupported] CoreML does not support shapes with dimension values of 0. Input:/model/transformer/layers.3/self_attn/Slice_2_output_0, shape: {0}\u001B[m\n",
      "\u001B[0;93m2025-06-06 19:54:06.172484 [W:onnxruntime:, helper.cc:89 IsInputSupported] CoreML does not support shapes with dimension values of 0. Input:/model/transformer/layers.4/self_attn/Slice_2_output_0, shape: {0}\u001B[m\n",
      "\u001B[0;93m2025-06-06 19:54:06.172508 [W:onnxruntime:, helper.cc:89 IsInputSupported] CoreML does not support shapes with dimension values of 0. Input:/model/transformer/layers.5/self_attn/Slice_2_output_0, shape: {0}\u001B[m\n",
      "\u001B[0;93m2025-06-06 19:54:06.172825 [W:onnxruntime:, coreml_execution_provider.cc:113 GetCapability] CoreMLExecutionProvider::GetCapability, number of partitions supported by CoreML: 75 number of nodes in the graph: 842 number of nodes supported by CoreML: 308\u001B[m\n"
     ]
    },
    {
     "name": "stdout",
     "output_type": "stream",
     "text": [
      "\n",
      "Benchmarking original...\n",
      "Created ONNX Runtime session with providers: ['CoreMLExecutionProvider', 'CPUExecutionProvider']\n",
      "Benchmarking model (100 runs after 10 warmup)...\n"
     ]
    },
    {
     "name": "stderr",
     "output_type": "stream",
     "text": [
      "Context leak detected, msgtracer returned -1\n"
     ]
    },
    {
     "name": "stdout",
     "output_type": "stream",
     "text": [
      "Benchmark results:\n",
      "  - mean_ms: 115.90\n",
      "  - std_ms: 6.02\n",
      "  - min_ms: 104.44\n",
      "  - max_ms: 131.26\n",
      "  - median_ms: 115.42\n",
      "  - p95_ms: 125.39\n",
      "  - p99_ms: 131.16\n",
      "\n",
      "Benchmarking optimized...\n"
     ]
    },
    {
     "name": "stderr",
     "output_type": "stream",
     "text": [
      "\u001B[0;93m2025-06-06 19:54:24.453629 [W:onnxruntime:, helper.cc:89 IsInputSupported] CoreML does not support shapes with dimension values of 0. Input:/model/transformer/layers.0/self_attn/Slice_2_output_0, shape: {0}\u001B[m\n",
      "\u001B[0;93m2025-06-06 19:54:24.453668 [W:onnxruntime:, helper.cc:89 IsInputSupported] CoreML does not support shapes with dimension values of 0. Input:/model/transformer/layers.1/self_attn/Slice_2_output_0, shape: {0}\u001B[m\n",
      "\u001B[0;93m2025-06-06 19:54:24.453686 [W:onnxruntime:, helper.cc:89 IsInputSupported] CoreML does not support shapes with dimension values of 0. Input:/model/transformer/layers.2/self_attn/Slice_2_output_0, shape: {0}\u001B[m\n",
      "\u001B[0;93m2025-06-06 19:54:24.453704 [W:onnxruntime:, helper.cc:89 IsInputSupported] CoreML does not support shapes with dimension values of 0. Input:/model/transformer/layers.3/self_attn/Slice_2_output_0, shape: {0}\u001B[m\n",
      "\u001B[0;93m2025-06-06 19:54:24.453720 [W:onnxruntime:, helper.cc:89 IsInputSupported] CoreML does not support shapes with dimension values of 0. Input:/model/transformer/layers.4/self_attn/Slice_2_output_0, shape: {0}\u001B[m\n",
      "\u001B[0;93m2025-06-06 19:54:24.453736 [W:onnxruntime:, helper.cc:89 IsInputSupported] CoreML does not support shapes with dimension values of 0. Input:/model/transformer/layers.5/self_attn/Slice_2_output_0, shape: {0}\u001B[m\n",
      "\u001B[0;93m2025-06-06 19:54:24.453982 [W:onnxruntime:, coreml_execution_provider.cc:113 GetCapability] CoreMLExecutionProvider::GetCapability, number of partitions supported by CoreML: 80 number of nodes in the graph: 740 number of nodes supported by CoreML: 194\u001B[m\n"
     ]
    },
    {
     "name": "stdout",
     "output_type": "stream",
     "text": [
      "Created ONNX Runtime session with providers: ['CoreMLExecutionProvider', 'CPUExecutionProvider']\n",
      "Benchmarking model (100 runs after 10 warmup)...\n"
     ]
    },
    {
     "name": "stderr",
     "output_type": "stream",
     "text": [
      "Context leak detected, msgtracer returned -1\n"
     ]
    },
    {
     "name": "stdout",
     "output_type": "stream",
     "text": [
      "Benchmark results:\n",
      "  - mean_ms: 88.32\n",
      "  - std_ms: 7.97\n",
      "  - min_ms: 75.03\n",
      "  - max_ms: 120.54\n",
      "  - median_ms: 85.97\n",
      "  - p95_ms: 101.26\n",
      "  - p99_ms: 103.25\n",
      "\n",
      "Benchmarking dynamic_int8...\n"
     ]
    },
    {
     "name": "stderr",
     "output_type": "stream",
     "text": [
      "\u001B[0;93m2025-06-06 19:54:40.097914 [W:onnxruntime:, helper.cc:89 IsInputSupported] CoreML does not support shapes with dimension values of 0. Input:/model/transformer/layers.0/self_attn/Slice_2_output_0, shape: {0}\u001B[m\n",
      "\u001B[0;93m2025-06-06 19:54:40.097961 [W:onnxruntime:, helper.cc:89 IsInputSupported] CoreML does not support shapes with dimension values of 0. Input:/model/transformer/layers.1/self_attn/Slice_2_output_0, shape: {0}\u001B[m\n",
      "\u001B[0;93m2025-06-06 19:54:40.097983 [W:onnxruntime:, helper.cc:89 IsInputSupported] CoreML does not support shapes with dimension values of 0. Input:/model/transformer/layers.2/self_attn/Slice_2_output_0, shape: {0}\u001B[m\n",
      "\u001B[0;93m2025-06-06 19:54:40.098003 [W:onnxruntime:, helper.cc:89 IsInputSupported] CoreML does not support shapes with dimension values of 0. Input:/model/transformer/layers.3/self_attn/Slice_2_output_0, shape: {0}\u001B[m\n",
      "\u001B[0;93m2025-06-06 19:54:40.098022 [W:onnxruntime:, helper.cc:89 IsInputSupported] CoreML does not support shapes with dimension values of 0. Input:/model/transformer/layers.4/self_attn/Slice_2_output_0, shape: {0}\u001B[m\n",
      "\u001B[0;93m2025-06-06 19:54:40.098041 [W:onnxruntime:, helper.cc:89 IsInputSupported] CoreML does not support shapes with dimension values of 0. Input:/model/transformer/layers.5/self_attn/Slice_2_output_0, shape: {0}\u001B[m\n",
      "\u001B[0;93m2025-06-06 19:54:40.098308 [W:onnxruntime:, coreml_execution_provider.cc:113 GetCapability] CoreMLExecutionProvider::GetCapability, number of partitions supported by CoreML: 80 number of nodes in the graph: 848 number of nodes supported by CoreML: 243\u001B[m\n"
     ]
    },
    {
     "name": "stdout",
     "output_type": "stream",
     "text": [
      "Created ONNX Runtime session with providers: ['CoreMLExecutionProvider', 'CPUExecutionProvider']\n",
      "Benchmarking model (100 runs after 10 warmup)...\n"
     ]
    },
    {
     "name": "stderr",
     "output_type": "stream",
     "text": [
      "Context leak detected, msgtracer returned -1\n"
     ]
    },
    {
     "name": "stdout",
     "output_type": "stream",
     "text": [
      "Benchmark results:\n",
      "  - mean_ms: 116.91\n",
      "  - std_ms: 5.89\n",
      "  - min_ms: 104.19\n",
      "  - max_ms: 145.19\n",
      "  - median_ms: 115.92\n",
      "  - p95_ms: 129.57\n",
      "  - p99_ms: 134.04\n",
      "\n",
      "Benchmarking static_int8...\n"
     ]
    },
    {
     "name": "stderr",
     "output_type": "stream",
     "text": [
      "\u001B[0;93m2025-06-06 19:54:59.197907 [W:onnxruntime:, helper.cc:89 IsInputSupported] CoreML does not support shapes with dimension values of 0. Input:/model/transformer/layers.0/self_attn/Slice_2_output_0, shape: {0}\u001B[m\n",
      "\u001B[0;93m2025-06-06 19:54:59.197954 [W:onnxruntime:, helper.cc:89 IsInputSupported] CoreML does not support shapes with dimension values of 0. Input:/model/transformer/layers.1/self_attn/Slice_2_output_0, shape: {0}\u001B[m\n",
      "\u001B[0;93m2025-06-06 19:54:59.197978 [W:onnxruntime:, helper.cc:89 IsInputSupported] CoreML does not support shapes with dimension values of 0. Input:/model/transformer/layers.2/self_attn/Slice_2_output_0, shape: {0}\u001B[m\n",
      "\u001B[0;93m2025-06-06 19:54:59.197999 [W:onnxruntime:, helper.cc:89 IsInputSupported] CoreML does not support shapes with dimension values of 0. Input:/model/transformer/layers.3/self_attn/Slice_2_output_0, shape: {0}\u001B[m\n",
      "\u001B[0;93m2025-06-06 19:54:59.198020 [W:onnxruntime:, helper.cc:89 IsInputSupported] CoreML does not support shapes with dimension values of 0. Input:/model/transformer/layers.4/self_attn/Slice_2_output_0, shape: {0}\u001B[m\n",
      "\u001B[0;93m2025-06-06 19:54:59.198039 [W:onnxruntime:, helper.cc:89 IsInputSupported] CoreML does not support shapes with dimension values of 0. Input:/model/transformer/layers.5/self_attn/Slice_2_output_0, shape: {0}\u001B[m\n",
      "\u001B[0;93m2025-06-06 19:54:59.198373 [W:onnxruntime:, coreml_execution_provider.cc:113 GetCapability] CoreMLExecutionProvider::GetCapability, number of partitions supported by CoreML: 106 number of nodes in the graph: 1357 number of nodes supported by CoreML: 182\u001B[m\n"
     ]
    },
    {
     "name": "stdout",
     "output_type": "stream",
     "text": [
      "Created ONNX Runtime session with providers: ['CoreMLExecutionProvider', 'CPUExecutionProvider']\n",
      "Benchmarking model (100 runs after 10 warmup)...\n"
     ]
    },
    {
     "name": "stderr",
     "output_type": "stream",
     "text": [
      "Context leak detected, msgtracer returned -1\n",
      "Context leak detected, msgtracer returned -1\n"
     ]
    },
    {
     "name": "stdout",
     "output_type": "stream",
     "text": [
      "Benchmark results:\n",
      "  - mean_ms: 106.21\n",
      "  - std_ms: 4.01\n",
      "  - min_ms: 97.47\n",
      "  - max_ms: 116.35\n",
      "  - median_ms: 105.51\n",
      "  - p95_ms: 113.80\n",
      "  - p99_ms: 115.97\n"
     ]
    },
    {
     "data": {
      "text/plain": [
       "<Figure size 1200x500 with 2 Axes>"
      ],
      "image/png": "[encoded data removed]"
     },
     "metadata": {},
     "output_type": "display_data"
    }
   ],
   "execution_count": 8
  },
  {
   "cell_type": "markdown",
   "metadata": {},
   "source": [
    "## 6. Model Pruning (Optional)"
   ]
  },
  {
   "cell_type": "code",
   "metadata": {
    "ExecuteTime": {
     "end_time": "2025-06-06T18:55:20.550928Z",
     "start_time": "2025-06-06T18:55:19.449843Z"
    }
   },
   "source": [
    "def analyze_model_sparsity(model_path: str):\n",
    "    \"\"\"\n",
    "    Analyze weight sparsity in the model.\n",
    "    \"\"\"\n",
    "    model = onnx.load(model_path)\n",
    "    \n",
    "    total_params = 0\n",
    "    zero_params = 0\n",
    "    \n",
    "    for initializer in model.graph.initializer:\n",
    "        # Convert to numpy array\n",
    "        if initializer.data_type == onnx.TensorProto.FLOAT:\n",
    "            weights = np.frombuffer(initializer.raw_data, dtype=np.float32)\n",
    "        else:\n",
    "            continue\n",
    "            \n",
    "        total_params += weights.size\n",
    "        zero_params += np.sum(np.abs(weights) < 1e-6)\n",
    "        \n",
    "    sparsity = zero_params / total_params * 100 if total_params > 0 else 0\n",
    "    \n",
    "    print(f\"Model sparsity: {sparsity:.1f}%\")\n",
    "    print(f\"Total parameters: {total_params:,}\")\n",
    "    print(f\"Zero parameters: {zero_params:,}\")\n",
    "    \n",
    "    return sparsity\n",
    "\n",
    "\n",
    "# Analyze sparsity of models\n",
    "print(\"\\nAnalyzing model sparsity...\")\n",
    "for model_file in Path(optimized_dir).glob(\"*.onnx\"):\n",
    "    print(f\"\\n{model_file.name}:\")\n",
    "    analyze_model_sparsity(str(model_file))"
   ],
   "outputs": [
    {
     "name": "stdout",
     "output_type": "stream",
     "text": [
      "\n",
      "Analyzing model sparsity...\n",
      "\n",
      "decoder.onnx:\n",
      "Model sparsity: 0.0%\n",
      "Total parameters: 127,612,627\n",
      "Zero parameters: 47,569\n",
      "\n",
      "transformer.onnx:\n",
      "Model sparsity: 0.0%\n",
      "Total parameters: 9,911,297\n",
      "Zero parameters: 2,448\n",
      "\n",
      "mask_generator.onnx:\n",
      "Model sparsity: 0.0%\n",
      "Total parameters: 0\n",
      "Zero parameters: 0\n",
      "\n",
      "decoder_opt.onnx:\n",
      "Model sparsity: 0.0%\n",
      "Total parameters: 127,612,627\n",
      "Zero parameters: 47,569\n",
      "\n",
      "codec_decoder_opt.onnx:\n",
      "Model sparsity: 0.0%\n",
      "Total parameters: 26,348,033\n",
      "Zero parameters: 981\n",
      "\n",
      "audio_processor.onnx:\n",
      "Model sparsity: 25.0%\n",
      "Total parameters: 4\n",
      "Zero parameters: 1\n",
      "\n",
      "codec_decoder.onnx:\n",
      "Model sparsity: 0.0%\n",
      "Total parameters: 26,348,033\n",
      "Zero parameters: 981\n",
      "\n",
      "encoder.onnx:\n",
      "Model sparsity: 0.0%\n",
      "Total parameters: 22,908,146\n",
      "Zero parameters: 2,868\n",
      "\n",
      "codec_encoder.onnx:\n",
      "Model sparsity: 0.0%\n",
      "Total parameters: 19,015,170\n",
      "Zero parameters: 477\n",
      "\n",
      "codec_encoder_opt.onnx:\n",
      "Model sparsity: 0.0%\n",
      "Total parameters: 19,015,170\n",
      "Zero parameters: 477\n",
      "\n",
      "encoder_opt.onnx:\n",
      "Model sparsity: 0.0%\n",
      "Total parameters: 22,908,146\n",
      "Zero parameters: 2,868\n",
      "\n",
      "transformer_opt.onnx:\n",
      "Model sparsity: 0.0%\n",
      "Total parameters: 9,911,297\n",
      "Zero parameters: 2,448\n"
     ]
    }
   ],
   "execution_count": 9
  },
  {
   "cell_type": "markdown",
   "metadata": {},
   "source": [
    "## 7. Optimization Summary"
   ]
  },
  {
   "cell_type": "code",
   "metadata": {
    "ExecuteTime": {
     "end_time": "2025-06-06T18:55:20.563506Z",
     "start_time": "2025-06-06T18:55:20.560238Z"
    }
   },
   "source": [
    "# Create optimization summary\n",
    "print(\"\\n\" + \"=\"*60)\n",
    "print(\"OPTIMIZATION SUMMARY\")\n",
    "print(\"=\"*60)\n",
    "\n",
    "for model_name in optimization_results:\n",
    "    print(f\"\\n{model_name}:\")\n",
    "    \n",
    "    original_size = optimization_results[model_name]['original']\n",
    "    optimized_size = optimization_results[model_name]['optimized']\n",
    "    \n",
    "    print(f\"  Original: {original_size:.2f} MB\")\n",
    "    print(f\"  Optimized: {optimized_size:.2f} MB ({(1-optimized_size/original_size)*100:.1f}% reduction)\")\n",
    "    \n",
    "    # Check if quantized version exists\n",
    "    if model_name in quantization_results:\n",
    "        quantized_size = quantization_results[model_name]['quantized']\n",
    "        print(f\"  Quantized: {quantized_size:.2f} MB ({(1-quantized_size/original_size)*100:.1f}% reduction)\")\n",
    "\n",
    "print(\"\\n\" + \"=\"*60)\n",
    "\n",
    "# Recommendations\n",
    "print(\"\\nRECOMMENDATIONS:\")\n",
    "print(\"1. Use optimized models for production deployment\")\n",
    "print(\"2. Use quantized models for edge devices or when model size is critical\")\n",
    "print(\"3. Static quantization provides best performance but requires calibration data\")\n",
    "print(\"4. Test accuracy degradation after quantization for your use case\")\n",
    "print(\"5. Consider model-specific optimizations based on deployment target\")"
   ],
   "outputs": [
    {
     "name": "stdout",
     "output_type": "stream",
     "text": [
      "\n",
      "============================================================\n",
      "OPTIMIZATION SUMMARY\n",
      "============================================================\n",
      "\n",
      "decoder.onnx:\n",
      "  Original: 487.08 MB\n",
      "  Optimized: 487.10 MB (-0.0% reduction)\n",
      "  Quantized: 171.75 MB (64.7% reduction)\n",
      "\n",
      "decoder_opt.onnx:\n",
      "  Original: 487.10 MB\n",
      "  Optimized: 487.05 MB (0.0% reduction)\n",
      "\n",
      "encoder.onnx:\n",
      "  Original: 87.27 MB\n",
      "  Optimized: 87.63 MB (-0.4% reduction)\n",
      "  Quantized: 22.67 MB (74.0% reduction)\n",
      "\n",
      "encoder_opt.onnx:\n",
      "  Original: 87.63 MB\n",
      "  Optimized: 87.60 MB (0.0% reduction)\n",
      "\n",
      "transformer.onnx:\n",
      "  Original: 38.16 MB\n",
      "  Optimized: 38.04 MB (0.3% reduction)\n",
      "  Quantized: 17.07 MB (55.3% reduction)\n",
      "\n",
      "mask_generator.onnx:\n",
      "  Original: 0.01 MB\n",
      "  Optimized: 0.00 MB (38.2% reduction)\n",
      "\n",
      "codec_decoder_opt.onnx:\n",
      "  Original: 100.52 MB\n",
      "  Optimized: 100.52 MB (0.0% reduction)\n",
      "\n",
      "audio_processor.onnx:\n",
      "  Original: 0.01 MB\n",
      "  Optimized: 0.00 MB (36.2% reduction)\n",
      "\n",
      "codec_decoder.onnx:\n",
      "  Original: 100.52 MB\n",
      "  Optimized: 100.52 MB (0.0% reduction)\n",
      "  Quantized: 79.53 MB (20.9% reduction)\n",
      "\n",
      "codec_encoder.onnx:\n",
      "  Original: 72.63 MB\n",
      "  Optimized: 72.61 MB (0.0% reduction)\n",
      "  Quantized: 41.11 MB (43.4% reduction)\n",
      "\n",
      "codec_encoder_opt.onnx:\n",
      "  Original: 72.61 MB\n",
      "  Optimized: 72.59 MB (0.0% reduction)\n",
      "\n",
      "transformer_opt.onnx:\n",
      "  Original: 38.04 MB\n",
      "  Optimized: 37.99 MB (0.1% reduction)\n",
      "\n",
      "============================================================\n",
      "\n",
      "RECOMMENDATIONS:\n",
      "1. Use optimized models for production deployment\n",
      "2. Use quantized models for edge devices or when model size is critical\n",
      "3. Static quantization provides best performance but requires calibration data\n",
      "4. Test accuracy degradation after quantization for your use case\n",
      "5. Consider model-specific optimizations based on deployment target\n"
     ]
    }
   ],
   "execution_count": 10
  },
  {
   "cell_type": "markdown",
   "metadata": {},
   "source": [
    "## 8. Export Optimization Pipeline"
   ]
  },
  {
   "cell_type": "code",
   "metadata": {
    "ExecuteTime": {
     "end_time": "2025-06-06T18:55:22.889596Z",
     "start_time": "2025-06-06T18:55:20.577271Z"
    }
   },
   "source": [
    "def create_optimized_pipeline(base_model_dir: str, output_dir: str, optimization_config: dict):\n",
    "    \"\"\"\n",
    "    Create a complete optimized pipeline with specified optimization settings.\n",
    "    \n",
    "    Args:\n",
    "        base_model_dir: Directory with original ONNX models\n",
    "        output_dir: Output directory for optimized models\n",
    "        optimization_config: Dict with optimization settings per model\n",
    "    \"\"\"\n",
    "    os.makedirs(output_dir, exist_ok=True)\n",
    "    \n",
    "    for model_name, config in optimization_config.items():\n",
    "        input_path = os.path.join(base_model_dir, f\"{model_name}.onnx\")\n",
    "        if not os.path.exists(input_path):\n",
    "            print(f\"Skipping {model_name}: not found\")\n",
    "            continue\n",
    "            \n",
    "        print(f\"\\nOptimizing {model_name}...\")\n",
    "        \n",
    "        # Step 1: Graph optimization\n",
    "        if config.get('optimize_graph', True):\n",
    "            temp_path = os.path.join(output_dir, f\"{model_name}_opt.onnx\")\n",
    "            optimize_onnx_model(input_path, temp_path)\n",
    "            input_path = temp_path\n",
    "            \n",
    "        # Step 2: Quantization\n",
    "        if config.get('quantize', False):\n",
    "            output_path = os.path.join(output_dir, f\"{model_name}_final.onnx\")\n",
    "            quantize_type = config.get('quantize_type', 'dynamic')\n",
    "            \n",
    "            if quantize_type == 'dynamic':\n",
    "                apply_dynamic_quantization(input_path, output_path)\n",
    "            elif quantize_type == 'static':\n",
    "                apply_static_quantization(input_path, output_path, model_name)\n",
    "        else:\n",
    "            output_path = os.path.join(output_dir, f\"{model_name}_final.onnx\")\n",
    "            import shutil\n",
    "            shutil.copy(input_path, output_path)\n",
    "            \n",
    "        # Clean up temp files\n",
    "        if config.get('optimize_graph', True) and os.path.exists(temp_path):\n",
    "            os.remove(temp_path)\n",
    "            \n",
    "    print(f\"\\nOptimized pipeline created in {output_dir}\")\n",
    "\n",
    "\n",
    "# Example configuration for production deployment\n",
    "production_config = {\n",
    "    'audio_processor': {\n",
    "        'optimize_graph': True,\n",
    "        'quantize': False  # Keep float for audio processing\n",
    "    },\n",
    "    'codec_encoder': {\n",
    "        'optimize_graph': True,\n",
    "        'quantize': True,\n",
    "        'quantize_type': 'dynamic'\n",
    "    },\n",
    "    'mask_generator': {\n",
    "        'optimize_graph': True,\n",
    "        'quantize': False  # Simple operation, minimal benefit\n",
    "    },\n",
    "    'transformer': {\n",
    "        'optimize_graph': True,\n",
    "        'quantize': True,\n",
    "        'quantize_type': 'dynamic'  # Use 'static' for best performance\n",
    "    },\n",
    "    'codec_decoder': {\n",
    "        'optimize_graph': True,\n",
    "        'quantize': True,\n",
    "        'quantize_type': 'dynamic'\n",
    "    }\n",
    "}\n",
    "\n",
    "# Create production pipeline\n",
    "create_optimized_pipeline(model_dir, \"onnx_models_production\", production_config)"
   ],
   "outputs": [
    {
     "name": "stdout",
     "output_type": "stream",
     "text": [
      "\n",
      "Optimizing audio_processor...\n",
      "Warning: Using ALL optimizations (may include hardware-specific optimizations)\n",
      "Optimized model saved to onnx_models_production/audio_processor_opt.onnx\n",
      "Size reduction: 0.01 MB -> 0.00 MB (36.2%)\n",
      "\n",
      "Optimizing codec_encoder...\n",
      "Warning: Using ALL optimizations (may include hardware-specific optimizations)\n",
      "Optimized model saved to onnx_models_production/codec_encoder_opt.onnx\n",
      "Size reduction: 72.63 MB -> 72.61 MB (0.0%)\n"
     ]
    },
    {
     "name": "stderr",
     "output_type": "stream",
     "text": [
      "\u001B[0;93m2025-06-06 19:55:20.584783 [W:onnxruntime:, inference_session.cc:2212 Initialize] Serializing optimized model with Graph Optimization level greater than ORT_ENABLE_EXTENDED and the NchwcTransformer enabled. The generated model may contain hardware specific optimizations, and should only be used in the same environment the model was optimized in.\u001B[m\n",
      "\u001B[0;93m2025-06-06 19:55:20.640826 [W:onnxruntime:, inference_session.cc:2212 Initialize] Serializing optimized model with Graph Optimization level greater than ORT_ENABLE_EXTENDED and the NchwcTransformer enabled. The generated model may contain hardware specific optimizations, and should only be used in the same environment the model was optimized in.\u001B[m\n",
      "WARNING:root:Please consider to run pre-processing before quantization. Refer to example: https://github.com/microsoft/onnxruntime-inference-examples/blob/main/quantization/image_classification/cpu/ReadMe.md \n",
      "INFO:root:Quantization parameters for tensor:\"/encoder/encoder.3/Relu_output_0\" not specified\n",
      "\u001B[0;93m2025-06-06 19:55:21.347206 [W:onnxruntime:, inference_session.cc:2212 Initialize] Serializing optimized model with Graph Optimization level greater than ORT_ENABLE_EXTENDED and the NchwcTransformer enabled. The generated model may contain hardware specific optimizations, and should only be used in the same environment the model was optimized in.\u001B[m\n"
     ]
    },
    {
     "name": "stdout",
     "output_type": "stream",
     "text": [
      "  Quantized: 72.61 MB -> 41.11 MB (43.4%)\n",
      "\n",
      "Optimizing mask_generator...\n",
      "Warning: Using ALL optimizations (may include hardware-specific optimizations)\n",
      "Optimized model saved to onnx_models_production/mask_generator_opt.onnx\n",
      "Size reduction: 0.01 MB -> 0.00 MB (38.2%)\n",
      "\n",
      "Optimizing transformer...\n",
      "Warning: Using ALL optimizations (may include hardware-specific optimizations)\n",
      "Optimized model saved to onnx_models_production/transformer_opt.onnx\n",
      "Size reduction: 38.16 MB -> 38.04 MB (0.3%)\n"
     ]
    },
    {
     "name": "stderr",
     "output_type": "stream",
     "text": [
      "\u001B[0;93m2025-06-06 19:55:21.448401 [W:onnxruntime:, inference_session.cc:2212 Initialize] Serializing optimized model with Graph Optimization level greater than ORT_ENABLE_EXTENDED and the NchwcTransformer enabled. The generated model may contain hardware specific optimizations, and should only be used in the same environment the model was optimized in.\u001B[m\n",
      "WARNING:root:Please consider to run pre-processing before quantization. Refer to example: https://github.com/microsoft/onnxruntime-inference-examples/blob/main/quantization/image_classification/cpu/ReadMe.md \n",
      "INFO:root:Quantization parameters for tensor:\"/model/transformer/layers.0/self_attn/Transpose_output_0\" not specified\n",
      "INFO:root:Ignore MatMul due to non constant B: /[/model/transformer/layers.0/self_attn/MatMul_1]\n",
      "INFO:root:Ignore MatMul due to non constant B: /[/model/transformer/layers.0/self_attn/MatMul_2]\n",
      "INFO:root:Quantization parameters for tensor:\"/model/transformer/layers.0/self_attn/Reshape_9_output_0\" not specified\n",
      "INFO:root:Quantization parameters for tensor:\"/model/transformer/layers.0/norm1/Add_1_output_0\" not specified\n",
      "INFO:root:Quantization parameters for tensor:\"/model/transformer/layers.0/Relu_output_0\" not specified\n",
      "INFO:root:Quantization parameters for tensor:\"/model/transformer/layers.1/self_attn/Transpose_output_0\" not specified\n",
      "INFO:root:Ignore MatMul due to non constant B: /[/model/transformer/layers.1/self_attn/MatMul_1]\n",
      "INFO:root:Ignore MatMul due to non constant B: /[/model/transformer/layers.1/self_attn/MatMul_2]\n",
      "INFO:root:Quantization parameters for tensor:\"/model/transformer/layers.1/self_attn/Reshape_9_output_0\" not specified\n",
      "INFO:root:Quantization parameters for tensor:\"/model/transformer/layers.1/norm1/Add_1_output_0\" not specified\n",
      "INFO:root:Quantization parameters for tensor:\"/model/transformer/layers.1/Relu_output_0\" not specified\n",
      "INFO:root:Quantization parameters for tensor:\"/model/transformer/layers.2/self_attn/Transpose_output_0\" not specified\n",
      "INFO:root:Ignore MatMul due to non constant B: /[/model/transformer/layers.2/self_attn/MatMul_1]\n",
      "INFO:root:Ignore MatMul due to non constant B: /[/model/transformer/layers.2/self_attn/MatMul_2]\n",
      "INFO:root:Quantization parameters for tensor:\"/model/transformer/layers.2/self_attn/Reshape_9_output_0\" not specified\n",
      "INFO:root:Quantization parameters for tensor:\"/model/transformer/layers.2/norm1/Add_1_output_0\" not specified\n",
      "INFO:root:Quantization parameters for tensor:\"/model/transformer/layers.2/Relu_output_0\" not specified\n",
      "INFO:root:Quantization parameters for tensor:\"/model/transformer/layers.3/self_attn/Transpose_output_0\" not specified\n",
      "INFO:root:Ignore MatMul due to non constant B: /[/model/transformer/layers.3/self_attn/MatMul_1]\n",
      "INFO:root:Ignore MatMul due to non constant B: /[/model/transformer/layers.3/self_attn/MatMul_2]\n",
      "INFO:root:Quantization parameters for tensor:\"/model/transformer/layers.3/self_attn/Reshape_9_output_0\" not specified\n",
      "INFO:root:Quantization parameters for tensor:\"/model/transformer/layers.3/norm1/Add_1_output_0\" not specified\n",
      "INFO:root:Quantization parameters for tensor:\"/model/transformer/layers.3/Relu_output_0\" not specified\n",
      "INFO:root:Quantization parameters for tensor:\"/model/transformer/layers.4/self_attn/Transpose_output_0\" not specified\n",
      "INFO:root:Ignore MatMul due to non constant B: /[/model/transformer/layers.4/self_attn/MatMul_1]\n",
      "INFO:root:Ignore MatMul due to non constant B: /[/model/transformer/layers.4/self_attn/MatMul_2]\n",
      "INFO:root:Quantization parameters for tensor:\"/model/transformer/layers.4/self_attn/Reshape_9_output_0\" not specified\n",
      "INFO:root:Quantization parameters for tensor:\"/model/transformer/layers.4/norm1/Add_1_output_0\" not specified\n",
      "INFO:root:Quantization parameters for tensor:\"/model/transformer/layers.4/Relu_output_0\" not specified\n",
      "INFO:root:Quantization parameters for tensor:\"/model/transformer/layers.5/self_attn/Transpose_output_0\" not specified\n",
      "INFO:root:Ignore MatMul due to non constant B: /[/model/transformer/layers.5/self_attn/MatMul_1]\n",
      "INFO:root:Ignore MatMul due to non constant B: /[/model/transformer/layers.5/self_attn/MatMul_2]\n",
      "INFO:root:Quantization parameters for tensor:\"/model/transformer/layers.5/self_attn/Reshape_9_output_0\" not specified\n",
      "INFO:root:Quantization parameters for tensor:\"/model/transformer/layers.5/norm1/Add_1_output_0\" not specified\n",
      "INFO:root:Quantization parameters for tensor:\"/model/transformer/layers.5/Relu_output_0\" not specified\n",
      "INFO:root:Quantization parameters for tensor:\"/model/transformer/layers.5/norm2/Add_1_output_0\" not specified\n",
      "\u001B[0;93m2025-06-06 19:55:21.978152 [W:onnxruntime:, inference_session.cc:2212 Initialize] Serializing optimized model with Graph Optimization level greater than ORT_ENABLE_EXTENDED and the NchwcTransformer enabled. The generated model may contain hardware specific optimizations, and should only be used in the same environment the model was optimized in.\u001B[m\n"
     ]
    },
    {
     "name": "stdout",
     "output_type": "stream",
     "text": [
      "  Quantized: 38.04 MB -> 17.07 MB (55.1%)\n",
      "\n",
      "Optimizing codec_decoder...\n",
      "Warning: Using ALL optimizations (may include hardware-specific optimizations)\n",
      "Optimized model saved to onnx_models_production/codec_decoder_opt.onnx\n",
      "Size reduction: 100.52 MB -> 100.52 MB (0.0%)\n"
     ]
    },
    {
     "name": "stderr",
     "output_type": "stream",
     "text": [
      "WARNING:root:Please consider to run pre-processing before quantization. Refer to example: https://github.com/microsoft/onnxruntime-inference-examples/blob/main/quantization/image_classification/cpu/ReadMe.md \n"
     ]
    },
    {
     "name": "stdout",
     "output_type": "stream",
     "text": [
      "  Quantized: 100.52 MB -> 79.53 MB (20.9%)\n",
      "\n",
      "Optimized pipeline created in onnx_models_production\n"
     ]
    }
   ],
   "execution_count": 11
  }
 ],
 "metadata": {
  "kernelspec": {
   "display_name": "Python 3",
   "language": "python",
   "name": "python3"
  },
  "language_info": {
   "codemirror_mode": {
    "name": "ipython",
    "version": 3
   },
   "file_extension": ".py",
   "mimetype": "text/x-python",
   "name": "python",
   "nbconvert_exporter": "python",
   "pygments_lexer": "ipython3",
   "version": "3.9.0"
  }
 },
 "nbformat": 4,
 "nbformat_minor": 4
}
