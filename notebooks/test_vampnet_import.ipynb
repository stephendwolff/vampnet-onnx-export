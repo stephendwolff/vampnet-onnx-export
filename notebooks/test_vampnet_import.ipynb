{
 "cells": [
  {
   "cell_type": "code",
   "id": "initial_id",
   "metadata": {
    "collapsed": true,
    "ExecuteTime": {
     "end_time": "2025-06-06T16:12:25.011949Z",
     "start_time": "2025-06-06T16:12:25.008280Z"
    }
   },
   "source": "# Suppress the TorchScript deprecation warning from ignite\nimport warnings\nwarnings.filterwarnings('ignore', category=DeprecationWarning, \n                       message='.*TorchScript.*functional optimizers.*')\n\n# import IPython.display as ipd\n# import audiotools as at\n# import matplotlib.pyplot as plt\nimport numpy as np\nimport torch\nimport vampnet\nimport os\nfrom pathlib import Path\n\n# Create output directory for saved audio\n# output_dir = Path(\"outputs/01_sparse_dense\")\n# output_dir.mkdir(parents=True, exist_ok=True)\n\ndevice = \"cuda\" if torch.cuda.is_available() else \"cpu\"\nprint(f\"Using device: {device}\")",
   "outputs": [
    {
     "name": "stdout",
     "output_type": "stream",
     "text": [
      "Using device: cpu\n"
     ]
    }
   ],
   "execution_count": 2
  }
 ],
 "metadata": {
  "kernelspec": {
   "display_name": "Python 3",
   "language": "python",
   "name": "python3"
  },
  "language_info": {
   "codemirror_mode": {
    "name": "ipython",
    "version": 2
   },
   "file_extension": ".py",
   "mimetype": "text/x-python",
   "name": "python",
   "nbconvert_exporter": "python",
   "pygments_lexer": "ipython2",
   "version": "2.7.6"
  }
 },
 "nbformat": 4,
 "nbformat_minor": 5
}
